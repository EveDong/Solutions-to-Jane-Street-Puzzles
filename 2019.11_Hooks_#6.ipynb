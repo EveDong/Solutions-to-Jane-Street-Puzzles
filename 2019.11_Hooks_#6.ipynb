{
 "cells": [
  {
   "cell_type": "markdown",
   "metadata": {},
   "source": [
    "# Completed Grid\n",
    "![2019.11 Hooks #6](./pics/2019.11_Hooks_#6.png)"
   ]
  },
  {
   "cell_type": "markdown",
   "metadata": {},
   "source": [
    "# Answer\n",
    "10 * 5 * 5 * 5 * 2 * 2 * 2 * 1 * 1 * 1 * 1 * 1 = 10000"
   ]
  }
 ],
 "metadata": {
  "kernelspec": {
   "display_name": "Python 3.7.4 64-bit ('Eve': virtualenv)",
   "language": "python",
   "name": "python37464bitevevirtualenvb0f75805c85f4820bb95817f7852b730"
  },
  "language_info": {
   "codemirror_mode": {
    "name": "ipython",
    "version": 3
   },
   "file_extension": ".py",
   "mimetype": "text/x-python",
   "name": "python",
   "nbconvert_exporter": "python",
   "pygments_lexer": "ipython3",
   "version": "3.7.4"
  },
  "toc-autonumbering": true
 },
 "nbformat": 4,
 "nbformat_minor": 4
}
