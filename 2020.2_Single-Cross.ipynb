{
 "cells": [
  {
   "cell_type": "code",
   "execution_count": 1,
   "metadata": {},
   "outputs": [],
   "source": [
    "import math\n",
    "import random\n",
    "import time\n",
    "\n",
    "%matplotlib inline\n",
    "import matplotlib.pyplot as plt\n",
    "import numpy as np"
   ]
  },
  {
   "cell_type": "code",
   "execution_count": 2,
   "metadata": {},
   "outputs": [],
   "source": [
    "start = time.time()\n",
    "n = 100000\n",
    "step = 0.001\n",
    "special = []\n",
    "probability = []\n",
    "for d in np.arange(np.sqrt(5), 0, -step):\n",
    "    x1_list = np.array([random.uniform(0, 1) for i in range(n)])\n",
    "    y1_list = np.array([random.uniform(0, 1) for i in range(n)])\n",
    "    radius_list = np.array([random.uniform(0, d) for i in range(n)])\n",
    "    angle_list = np.array([random.randint(0, 360) for i in range(n)])\n",
    "    x2_list = x1_list + radius_list * np.cos(angle_list)\n",
    "    y2_list = y1_list + radius_list * np.sin(angle_list)\n",
    "\n",
    "    special.append(\n",
    "        sum((x1_list == 0) | (x2_list == 1) | (y1_list == 0) | (y2_list == 1))\n",
    "    )\n",
    "    probability.append(\n",
    "        sum((x2_list >= 0) & (x2_list <= 1) & (y2_list >= -1) & (y2_list <= 0))\n",
    "        + sum((x2_list >= 0) & (x2_list <= 1) & (y2_list >= 1) & (y2_list <= 2))\n",
    "        + sum((x2_list >= -1) & (x2_list <= 0) & (y2_list >= 0) & (y2_list <= 1))\n",
    "        + sum((x2_list >= 1) & (x2_list <= 2) & (y2_list >= 0) & (y2_list <= 1))\n",
    "    )\n",
    "end = time.time()"
   ]
  },
  {
   "cell_type": "code",
   "execution_count": 11,
   "metadata": {},
   "outputs": [
    {
     "data": {
      "text/plain": [
       "48.42896087964376"
      ]
     },
     "execution_count": 11,
     "metadata": {},
     "output_type": "execute_result"
    },
    {
     "data": {
      "text/plain": [
       "0"
      ]
     },
     "execution_count": 11,
     "metadata": {},
     "output_type": "execute_result"
    },
    {
     "data": {
      "text/plain": [
       "(45396, 0.45396)"
      ]
     },
     "execution_count": 11,
     "metadata": {},
     "output_type": "execute_result"
    },
    {
     "data": {
      "text/plain": [
       "1014"
      ]
     },
     "execution_count": 11,
     "metadata": {},
     "output_type": "execute_result"
    },
    {
     "data": {
      "text/plain": [
       "1.2230679774999014"
      ]
     },
     "execution_count": 11,
     "metadata": {},
     "output_type": "execute_result"
    },
    {
     "data": {
      "text/plain": [
       "2237"
      ]
     },
     "execution_count": 11,
     "metadata": {},
     "output_type": "execute_result"
    }
   ],
   "source": [
    "(end - start) / 60\n",
    "sum(special)\n",
    "max(probability), max(probability) / n\n",
    "probability.index(max(probability)) + 1\n",
    "np.arange(np.sqrt(5), 0, -step)[probability.index(max(probability))]\n",
    "np.array(probability).shape[0]"
   ]
  },
  {
   "cell_type": "code",
   "execution_count": 6,
   "metadata": {},
   "outputs": [
    {
     "data": {
      "text/plain": [
       "[<matplotlib.lines.Line2D at 0x22b813263c8>]"
      ]
     },
     "execution_count": 6,
     "metadata": {},
     "output_type": "execute_result"
    },
    {
     "data": {
      "image/png": "[encoded data removed]",
      "text/plain": [
       "<Figure size 432x288 with 1 Axes>"
      ]
     },
     "metadata": {
      "needs_background": "light"
     },
     "output_type": "display_data"
    }
   ],
   "source": [
    "plt.plot(probability)"
   ]
  },
  {
   "cell_type": "markdown",
   "metadata": {},
   "source": [
    "D $\\approx$ 1.22307\n",
    "\n",
    "maximal probability $\\approx$ 0.45396"
   ]
  }
 ],
 "metadata": {
  "kernelspec": {
   "display_name": "Python 3.7.4 64-bit ('Eve': virtualenv)",
   "language": "python",
   "name": "python37464bitevevirtualenvb0f75805c85f4820bb95817f7852b730"
  },
  "language_info": {
   "codemirror_mode": {
    "name": "ipython",
    "version": 3
   },
   "file_extension": ".py",
   "mimetype": "text/x-python",
   "name": "python",
   "nbconvert_exporter": "python",
   "pygments_lexer": "ipython3",
   "version": "3.7.4"
  }
 },
 "nbformat": 4,
 "nbformat_minor": 4
}
